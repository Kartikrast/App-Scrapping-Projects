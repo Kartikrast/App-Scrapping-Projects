{
 "cells": [
  {
   "cell_type": "markdown",
   "metadata": {},
   "source": [
    "This file includes all the steps involved in the creation of the project."
   ]
  },
  {
   "cell_type": "markdown",
   "metadata": {},
   "source": [
    "#### Libraries"
   ]
  },
  {
   "cell_type": "code",
   "execution_count": 49,
   "metadata": {},
   "outputs": [],
   "source": [
    "import re\n",
    "import time\n",
    "import numpy as np\n",
    "import pandas as pd\n",
    "import os\n",
    "from datetime import datetime\n",
    "import logging\n",
    "from logging.handlers import RotatingFileHandler\n",
    "from appium import webdriver\n",
    "from appium.options.android import UiAutomator2Options\n",
    "from selenium.webdriver.common.by import By\n",
    "from selenium.webdriver.support.ui import WebDriverWait\n",
    "from selenium.webdriver.support import expected_conditions as EC\n",
    "\n",
    "handler = RotatingFileHandler('app.log', maxBytes=5000, backupCount=2)\n",
    "logging.basicConfig(\n",
    "    handlers=[handler],\n",
    "    level=logging.INFO,\n",
    "    format='%(asctime)s - %(levelname)s - %(message)s'\n",
    ")\n",
    "logging.getLogger('selenium').setLevel(logging.WARNING)\n",
    "logging.getLogger('urllib3').setLevel(logging.WARNING)\n",
    "logging.getLogger('appium').setLevel(logging.WARNING)"
   ]
  },
  {
   "cell_type": "markdown",
   "metadata": {},
   "source": [
    "#### Log Configuration"
   ]
  },
  {
   "cell_type": "code",
   "execution_count": 2,
   "metadata": {},
   "outputs": [],
   "source": [
    "console_handler = logging.StreamHandler()\n",
    "file_handler = logging.FileHandler('app.log')\n",
    "\n",
    "logging.basicConfig(\n",
    "    handlers=[console_handler, file_handler],\n",
    "    level=logging.INFO,\n",
    "    format='%(asctime)s - %(levelname)s - %(message)s'\n",
    ")"
   ]
  },
  {
   "cell_type": "markdown",
   "metadata": {},
   "source": [
    "#### Initializing Driver"
   ]
  },
  {
   "cell_type": "code",
   "execution_count": 52,
   "metadata": {},
   "outputs": [
    {
     "name": "stderr",
     "output_type": "stream",
     "text": [
      "--- Logging error ---\n",
      "Traceback (most recent call last):\n",
      "  File \"C:\\Program Files\\WindowsApps\\PythonSoftwareFoundation.Python.3.12_3.12.2544.0_x64__qbz5n2kfra8p0\\Lib\\logging\\handlers.py\", line 74, in emit\n",
      "    self.doRollover()\n",
      "  File \"C:\\Program Files\\WindowsApps\\PythonSoftwareFoundation.Python.3.12_3.12.2544.0_x64__qbz5n2kfra8p0\\Lib\\logging\\handlers.py\", line 179, in doRollover\n",
      "    self.rotate(self.baseFilename, dfn)\n",
      "  File \"C:\\Program Files\\WindowsApps\\PythonSoftwareFoundation.Python.3.12_3.12.2544.0_x64__qbz5n2kfra8p0\\Lib\\logging\\handlers.py\", line 115, in rotate\n",
      "    os.rename(source, dest)\n",
      "PermissionError: [WinError 32] The process cannot access the file because it is being used by another process: 'c:\\\\Users\\\\hp\\\\OneDrive\\\\Documents\\\\Code Playground\\\\Shivam Projects\\\\instagram_project\\\\app.log' -> 'c:\\\\Users\\\\hp\\\\OneDrive\\\\Documents\\\\Code Playground\\\\Shivam Projects\\\\instagram_project\\\\app.log.1'\n",
      "Call stack:\n",
      "  File \"<frozen runpy>\", line 198, in _run_module_as_main\n",
      "  File \"<frozen runpy>\", line 88, in _run_code\n",
      "  File \"C:\\Users\\hp\\AppData\\Local\\Packages\\PythonSoftwareFoundation.Python.3.12_qbz5n2kfra8p0\\LocalCache\\local-packages\\Python312\\site-packages\\ipykernel_launcher.py\", line 18, in <module>\n",
      "    app.launch_new_instance()\n",
      "  File \"C:\\Users\\hp\\AppData\\Local\\Packages\\PythonSoftwareFoundation.Python.3.12_qbz5n2kfra8p0\\LocalCache\\local-packages\\Python312\\site-packages\\traitlets\\config\\application.py\", line 1075, in launch_instance\n",
      "    app.start()\n",
      "  File \"C:\\Users\\hp\\AppData\\Local\\Packages\\PythonSoftwareFoundation.Python.3.12_qbz5n2kfra8p0\\LocalCache\\local-packages\\Python312\\site-packages\\ipykernel\\kernelapp.py\", line 739, in start\n",
      "    self.io_loop.start()\n",
      "  File \"C:\\Users\\hp\\AppData\\Local\\Packages\\PythonSoftwareFoundation.Python.3.12_qbz5n2kfra8p0\\LocalCache\\local-packages\\Python312\\site-packages\\tornado\\platform\\asyncio.py\", line 205, in start\n",
      "    self.asyncio_loop.run_forever()\n",
      "  File \"C:\\Program Files\\WindowsApps\\PythonSoftwareFoundation.Python.3.12_3.12.2544.0_x64__qbz5n2kfra8p0\\Lib\\asyncio\\base_events.py\", line 645, in run_forever\n",
      "    self._run_once()\n",
      "  File \"C:\\Program Files\\WindowsApps\\PythonSoftwareFoundation.Python.3.12_3.12.2544.0_x64__qbz5n2kfra8p0\\Lib\\asyncio\\base_events.py\", line 1999, in _run_once\n",
      "    handle._run()\n",
      "  File \"C:\\Program Files\\WindowsApps\\PythonSoftwareFoundation.Python.3.12_3.12.2544.0_x64__qbz5n2kfra8p0\\Lib\\asyncio\\events.py\", line 88, in _run\n",
      "    self._context.run(self._callback, *self._args)\n",
      "  File \"C:\\Users\\hp\\AppData\\Local\\Packages\\PythonSoftwareFoundation.Python.3.12_qbz5n2kfra8p0\\LocalCache\\local-packages\\Python312\\site-packages\\ipykernel\\kernelbase.py\", line 545, in dispatch_queue\n",
      "    await self.process_one()\n",
      "  File \"C:\\Users\\hp\\AppData\\Local\\Packages\\PythonSoftwareFoundation.Python.3.12_qbz5n2kfra8p0\\LocalCache\\local-packages\\Python312\\site-packages\\ipykernel\\kernelbase.py\", line 534, in process_one\n",
      "    await dispatch(*args)\n",
      "  File \"C:\\Users\\hp\\AppData\\Local\\Packages\\PythonSoftwareFoundation.Python.3.12_qbz5n2kfra8p0\\LocalCache\\local-packages\\Python312\\site-packages\\ipykernel\\kernelbase.py\", line 437, in dispatch_shell\n",
      "    await result\n",
      "  File \"C:\\Users\\hp\\AppData\\Local\\Packages\\PythonSoftwareFoundation.Python.3.12_qbz5n2kfra8p0\\LocalCache\\local-packages\\Python312\\site-packages\\ipykernel\\ipkernel.py\", line 362, in execute_request\n",
      "    await super().execute_request(stream, ident, parent)\n",
      "  File \"C:\\Users\\hp\\AppData\\Local\\Packages\\PythonSoftwareFoundation.Python.3.12_qbz5n2kfra8p0\\LocalCache\\local-packages\\Python312\\site-packages\\ipykernel\\kernelbase.py\", line 778, in execute_request\n",
      "    reply_content = await reply_content\n",
      "  File \"C:\\Users\\hp\\AppData\\Local\\Packages\\PythonSoftwareFoundation.Python.3.12_qbz5n2kfra8p0\\LocalCache\\local-packages\\Python312\\site-packages\\ipykernel\\ipkernel.py\", line 449, in do_execute\n",
      "    res = shell.run_cell(\n",
      "  File \"C:\\Users\\hp\\AppData\\Local\\Packages\\PythonSoftwareFoundation.Python.3.12_qbz5n2kfra8p0\\LocalCache\\local-packages\\Python312\\site-packages\\ipykernel\\zmqshell.py\", line 549, in run_cell\n",
      "    return super().run_cell(*args, **kwargs)\n",
      "  File \"C:\\Users\\hp\\AppData\\Local\\Packages\\PythonSoftwareFoundation.Python.3.12_qbz5n2kfra8p0\\LocalCache\\local-packages\\Python312\\site-packages\\IPython\\core\\interactiveshell.py\", line 3075, in run_cell\n",
      "    result = self._run_cell(\n",
      "  File \"C:\\Users\\hp\\AppData\\Local\\Packages\\PythonSoftwareFoundation.Python.3.12_qbz5n2kfra8p0\\LocalCache\\local-packages\\Python312\\site-packages\\IPython\\core\\interactiveshell.py\", line 3130, in _run_cell\n",
      "    result = runner(coro)\n",
      "  File \"C:\\Users\\hp\\AppData\\Local\\Packages\\PythonSoftwareFoundation.Python.3.12_qbz5n2kfra8p0\\LocalCache\\local-packages\\Python312\\site-packages\\IPython\\core\\async_helpers.py\", line 129, in _pseudo_sync_runner\n",
      "    coro.send(None)\n",
      "  File \"C:\\Users\\hp\\AppData\\Local\\Packages\\PythonSoftwareFoundation.Python.3.12_qbz5n2kfra8p0\\LocalCache\\local-packages\\Python312\\site-packages\\IPython\\core\\interactiveshell.py\", line 3334, in run_cell_async\n",
      "    has_raised = await self.run_ast_nodes(code_ast.body, cell_name,\n",
      "  File \"C:\\Users\\hp\\AppData\\Local\\Packages\\PythonSoftwareFoundation.Python.3.12_qbz5n2kfra8p0\\LocalCache\\local-packages\\Python312\\site-packages\\IPython\\core\\interactiveshell.py\", line 3517, in run_ast_nodes\n",
      "    if await self.run_code(code, result, async_=asy):\n",
      "  File \"C:\\Users\\hp\\AppData\\Local\\Packages\\PythonSoftwareFoundation.Python.3.12_qbz5n2kfra8p0\\LocalCache\\local-packages\\Python312\\site-packages\\IPython\\core\\interactiveshell.py\", line 3577, in run_code\n",
      "    exec(code_obj, self.user_global_ns, self.user_ns)\n",
      "  File \"C:\\Users\\hp\\AppData\\Local\\Temp\\ipykernel_6788\\2933769008.py\", line 25, in <module>\n",
      "    logging.info(\"Checking if device is connected...\")\n",
      "Message: 'Checking if device is connected...'\n",
      "Arguments: ()\n"
     ]
    }
   ],
   "source": [
    "# Device information (keep these as environment variables)\n",
    "DEVICE_NAME = os.getenv('DEVICE_NAME', 'R9ZWA07928P')\n",
    "DEVICE_UDID = os.getenv('DEVICE_UDID', 'R9ZWA07928P')\n",
    "\n",
    "desired_caps = {\n",
    "    'platformName': 'Android',\n",
    "    'deviceName': DEVICE_NAME,\n",
    "    'udid': DEVICE_UDID,\n",
    "    'platformVersion': '14',\n",
    "    'appPackage': 'com.instagram.android',\n",
    "    'appActivity': '.activity.MainTabActivity',\n",
    "    'automationName': 'UiAutomator2',\n",
    "    'noReset': True,\n",
    "    'newCommandTimeout': 6000,  # Reduced timeout\n",
    "    'adbExecTimeout': 20000,  # Increased timeout\n",
    "    'autoGrantPermissions': True,\n",
    "    'disableWindowAnimation': True,\n",
    "    'unicodeKeyboard': True,\n",
    "    'resetKeyboard': True,\n",
    "    \"appium:ensureWebviewsHavePages\": True\n",
    "}\n",
    "\n",
    "try:\n",
    "    # First, check if device is connected\n",
    "    logging.info(\"Checking if device is connected...\")\n",
    "    import subprocess\n",
    "    adb_devices = subprocess.check_output('adb devices').decode()\n",
    "    # logging.info(adb_devices)\n",
    "    \n",
    "    if DEVICE_UDID not in adb_devices:\n",
    "        # logging.error(f\"Device {DEVICE_UDID} not found. Please connect your device and enable USB debugging.\")\n",
    "        raise Exception(f\"Device {DEVICE_UDID} not found.\")\n",
    "    \n",
    "    options = UiAutomator2Options().load_capabilities(caps=desired_caps)\n",
    "    driver = webdriver.Remote('http://127.0.0.1:4723/wd/hub', options=options)\n",
    "    # logging.info(\"Driver initialized successfully\")\n",
    "    \n",
    "    # Add a small delay to ensure the app is fully loaded\n",
    "    import time\n",
    "    time.sleep(5)\n",
    "    \n",
    "except Exception as e:\n",
    "    # logging.error(f\"Error initializing driver: {str(e)}\")\n",
    "    raise"
   ]
  },
  {
   "cell_type": "markdown",
   "metadata": {},
   "source": [
    "#### X-PATHS"
   ]
  },
  {
   "cell_type": "code",
   "execution_count": 42,
   "metadata": {},
   "outputs": [],
   "source": [
    "x_paths = {\n",
    "    'search_explore': '//android.widget.FrameLayout[@content-desc=\"Search and explore\"]',\n",
    "    'search_bar': '//android.widget.EditText[@resource-id=\"com.instagram.android:id/action_bar_search_edit_text\"]',\n",
    "    'search_bar_text': '//android.widget.EditText[@resource-id=\"com.instagram.android:id/action_bar_search_edit_text\"]',\n",
    "    'message_button': '//android.widget.Button[@content-desc=\"Message\"]',\n",
    "    'message_text': '//android.widget.EditText[@resource-id=\"com.instagram.android:id/row_thread_composer_edittext\"]',\n",
    "    'send_button': '//android.widget.ImageView[@content-desc=\"Send\"]'\n",
    "}"
   ]
  },
  {
   "cell_type": "markdown",
   "metadata": {},
   "source": [
    "#### Steps"
   ]
  },
  {
   "cell_type": "code",
   "execution_count": 20,
   "metadata": {},
   "outputs": [],
   "source": [
    "def find_element(x_path_name):\n",
    "    try:\n",
    "        element = WebDriverWait(driver, 10).until(EC.presence_of_element_located((By.XPATH, x_paths[x_path_name])))\n",
    "        return element\n",
    "    except Exception as e:\n",
    "        print(e)\n",
    "        raise"
   ]
  },
  {
   "cell_type": "code",
   "execution_count": null,
   "metadata": {},
   "outputs": [],
   "source": [
    "user_names = ['navneet_ks_', 'candidpavscene', 'sevainternal']\n",
    "user_id = []\n",
    "message_sent = []\n",
    "date = []\n",
    "\n",
    "search_explore = find_element('search_explore')\n",
    "search_explore.click()\n",
    "time.sleep(1)\n",
    "search_bar = find_element('search_bar')\n",
    "search_bar.click()\n",
    "time.sleep(1)\n",
    "count = 0\n",
    "for username in user_names: \n",
    "    print(f\"Searching for: {username}\")\n",
    "    search_bar_text = find_element('search_bar_text')\n",
    "    search_bar_text.click()\n",
    "    search_bar_text.clear()  # clear previous input\n",
    "    search_bar_text.send_keys(username)\n",
    "    user_id.append(username)\n",
    "    search_result = WebDriverWait(driver, 10).until(EC.presence_of_element_located((By.XPATH, f'//android.widget.TextView[@resource-id=\"com.instagram.android:id/row_search_user_username\"]')))\n",
    "    search_result.click()\n",
    "    time.sleep(3)\n",
    "    message_button = find_element('message_button')\n",
    "    message_button.click()\n",
    "    time.sleep(2)\n",
    "    message_text = find_element('message_text')\n",
    "    message_text.click()\n",
    "    message = f'test: {count}'\n",
    "    message_text.send_keys(message)\n",
    "    message_sent.append(message)\n",
    "    time.sleep(2)\n",
    "    send_button = find_element('send_button')\n",
    "    send_button.click()\n",
    "    date.append(datetime.now())\n",
    "    time.sleep(2)\n",
    "    # After clicking on the user, go back to search\n",
    "    driver.back()\n",
    "    driver.back()\n",
    "    count += 1\n",
    "\n"
   ]
  },
  {
   "cell_type": "code",
   "execution_count": 56,
   "metadata": {},
   "outputs": [],
   "source": [
    "output = pd.DataFrame({\n",
    "    'user_id':user_id,\n",
    "    'message_sent':message_sent,\n",
    "    'date':date\n",
    "})"
   ]
  },
  {
   "cell_type": "code",
   "execution_count": 57,
   "metadata": {},
   "outputs": [
    {
     "data": {
      "text/html": [
       "<div>\n",
       "<style scoped>\n",
       "    .dataframe tbody tr th:only-of-type {\n",
       "        vertical-align: middle;\n",
       "    }\n",
       "\n",
       "    .dataframe tbody tr th {\n",
       "        vertical-align: top;\n",
       "    }\n",
       "\n",
       "    .dataframe thead th {\n",
       "        text-align: right;\n",
       "    }\n",
       "</style>\n",
       "<table border=\"1\" class=\"dataframe\">\n",
       "  <thead>\n",
       "    <tr style=\"text-align: right;\">\n",
       "      <th></th>\n",
       "      <th>user_id</th>\n",
       "      <th>message_sent</th>\n",
       "      <th>date</th>\n",
       "    </tr>\n",
       "  </thead>\n",
       "  <tbody>\n",
       "    <tr>\n",
       "      <th>0</th>\n",
       "      <td>navneet_ks_</td>\n",
       "      <td>test: 0</td>\n",
       "      <td>2025-03-24 14:52:41.442486</td>\n",
       "    </tr>\n",
       "    <tr>\n",
       "      <th>1</th>\n",
       "      <td>candidpavscene</td>\n",
       "      <td>test: 1</td>\n",
       "      <td>2025-03-24 14:53:03.666794</td>\n",
       "    </tr>\n",
       "    <tr>\n",
       "      <th>2</th>\n",
       "      <td>sevainternal</td>\n",
       "      <td>test: 2</td>\n",
       "      <td>2025-03-24 14:53:24.778122</td>\n",
       "    </tr>\n",
       "  </tbody>\n",
       "</table>\n",
       "</div>"
      ],
      "text/plain": [
       "          user_id message_sent                       date\n",
       "0     navneet_ks_      test: 0 2025-03-24 14:52:41.442486\n",
       "1  candidpavscene      test: 1 2025-03-24 14:53:03.666794\n",
       "2    sevainternal      test: 2 2025-03-24 14:53:24.778122"
      ]
     },
     "execution_count": 57,
     "metadata": {},
     "output_type": "execute_result"
    }
   ],
   "source": [
    "output"
   ]
  },
  {
   "cell_type": "code",
   "execution_count": null,
   "metadata": {},
   "outputs": [],
   "source": []
  }
 ],
 "metadata": {
  "kernelspec": {
   "display_name": "Python 3",
   "language": "python",
   "name": "python3"
  },
  "language_info": {
   "codemirror_mode": {
    "name": "ipython",
    "version": 3
   },
   "file_extension": ".py",
   "mimetype": "text/x-python",
   "name": "python",
   "nbconvert_exporter": "python",
   "pygments_lexer": "ipython3",
   "version": "3.12.9"
  }
 },
 "nbformat": 4,
 "nbformat_minor": 2
}
