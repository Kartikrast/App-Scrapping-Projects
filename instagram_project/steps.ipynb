{
 "cells": [
  {
   "cell_type": "markdown",
   "metadata": {},
   "source": [
    "This file includes all the steps involved in the creation of the project."
   ]
  },
  {
   "cell_type": "markdown",
   "metadata": {},
   "source": [
    "#### Libraries"
   ]
  },
  {
   "cell_type": "code",
   "execution_count": 19,
   "metadata": {},
   "outputs": [],
   "source": [
    "import re\n",
    "import time\n",
    "import numpy as np\n",
    "import pandas as pd\n",
    "import os\n",
    "import logging\n",
    "from logging.handlers import RotatingFileHandler\n",
    "from appium import webdriver\n",
    "from appium.options.android import UiAutomator2Options\n",
    "from selenium.webdriver.common.by import By\n",
    "from selenium.webdriver.support.ui import WebDriverWait\n",
    "from selenium.webdriver.support import expected_conditions as EC\n",
    "\n",
    "handler = RotatingFileHandler('app.log', maxBytes=5000, backupCount=2)\n",
    "logging.basicConfig(\n",
    "    handlers=[handler],\n",
    "    level=logging.INFO,\n",
    "    format='%(asctime)s - %(levelname)s - %(message)s'\n",
    ")\n",
    "logging.getLogger('selenium').setLevel(logging.WARNING)\n",
    "logging.getLogger('urllib3').setLevel(logging.WARNING)\n",
    "logging.getLogger('appium').setLevel(logging.WARNING)"
   ]
  },
  {
   "cell_type": "markdown",
   "metadata": {},
   "source": [
    "#### Log Configuration"
   ]
  },
  {
   "cell_type": "code",
   "execution_count": 20,
   "metadata": {},
   "outputs": [],
   "source": [
    "console_handler = logging.StreamHandler()\n",
    "file_handler = logging.FileHandler('app.log')\n",
    "\n",
    "logging.basicConfig(\n",
    "    handlers=[console_handler, file_handler],\n",
    "    level=logging.INFO,\n",
    "    format='%(asctime)s - %(levelname)s - %(message)s'\n",
    ")"
   ]
  },
  {
   "cell_type": "markdown",
   "metadata": {},
   "source": [
    "#### Initializing Driver"
   ]
  },
  {
   "cell_type": "code",
   "execution_count": 27,
   "metadata": {},
   "outputs": [
    {
     "name": "stderr",
     "output_type": "stream",
     "text": [
      "2025-03-22 20:51:42,283 - INFO - Checking if device is connected...\n",
      "2025-03-22 20:51:42,396 - INFO - List of devices attached\n",
      "R9ZWA07928P\tdevice\n",
      "\n",
      "\n",
      "2025-03-22 20:51:56,952 - INFO - Driver initialized successfully\n"
     ]
    }
   ],
   "source": [
    "# Device information (keep these as environment variables)\n",
    "DEVICE_NAME = os.getenv('DEVICE_NAME', 'R9ZWA07928P')\n",
    "DEVICE_UDID = os.getenv('DEVICE_UDID', 'R9ZWA07928P')\n",
    "\n",
    "desired_caps = {\n",
    "    'platformName': 'Android',\n",
    "    'deviceName': DEVICE_NAME,\n",
    "    'udid': DEVICE_UDID,\n",
    "    'platformVersion': '14',\n",
    "    'appPackage': 'com.instagram.android',\n",
    "    'appActivity': '.activity.MainTabActivity',\n",
    "    'automationName': 'UiAutomator2',\n",
    "    'noReset': True,\n",
    "    'newCommandTimeout': 6000,  # Reduced timeout\n",
    "    'adbExecTimeout': 20000,  # Increased timeout\n",
    "    'autoGrantPermissions': True,\n",
    "    'disableWindowAnimation': True,\n",
    "    'unicodeKeyboard': True,\n",
    "    'resetKeyboard': True,\n",
    "    \"appium:ensureWebviewsHavePages\": True\n",
    "}\n",
    "\n",
    "try:\n",
    "    # First, check if device is connected\n",
    "    logging.info(\"Checking if device is connected...\")\n",
    "    import subprocess\n",
    "    adb_devices = subprocess.check_output('adb devices').decode()\n",
    "    logging.info(adb_devices)\n",
    "    \n",
    "    if DEVICE_UDID not in adb_devices:\n",
    "        logging.error(f\"Device {DEVICE_UDID} not found. Please connect your device and enable USB debugging.\")\n",
    "        raise Exception(f\"Device {DEVICE_UDID} not found.\")\n",
    "    \n",
    "    options = UiAutomator2Options().load_capabilities(caps=desired_caps)\n",
    "    driver = webdriver.Remote('http://127.0.0.1:4723/wd/hub', options=options)\n",
    "    logging.info(\"Driver initialized successfully\")\n",
    "    \n",
    "    # Add a small delay to ensure the app is fully loaded\n",
    "    import time\n",
    "    time.sleep(5)\n",
    "    \n",
    "except Exception as e:\n",
    "    logging.error(f\"Error initializing driver: {str(e)}\")\n",
    "    raise"
   ]
  },
  {
   "cell_type": "markdown",
   "metadata": {},
   "source": [
    "#### X-PATHS"
   ]
  },
  {
   "cell_type": "code",
   "execution_count": 38,
   "metadata": {},
   "outputs": [
    {
     "name": "stderr",
     "output_type": "stream",
     "text": [
      "2025-03-22 21:12:02,793 - INFO - X_PATHS: {'search_explore': '//android.widget.FrameLayout[@content-desc=\"Search and explore\"]', 'search_bar': '//android.widget.EditText[@resource-id=\"com.instagram.android:id/action_bar_search_edit_text\"]', 'search_bar_text': '//android.widget.EditText[@resource-id=\"com.instagram.android:id/action_bar_search_edit_text\"]', 'search_result': '//android.widget.TextView[@resource-id=\"com.instagram.android:id/row_search_user_username\" and @text=\"None\"]'}\n"
     ]
    }
   ],
   "source": [
    "def get_dynamic_xpaths(usernames):\n",
    "    base_xpaths = {\n",
    "        'search_explore': '//android.widget.FrameLayout[@content-desc=\"Search and explore\"]',\n",
    "        'search_bar': '//android.widget.EditText[@resource-id=\"com.instagram.android:id/action_bar_search_edit_text\"]',\n",
    "        'search_bar_text': '//android.widget.EditText[@resource-id=\"com.instagram.android:id/action_bar_search_edit_text\"]'\n",
    "    }\n",
    "    \n",
    "    # Create dynamic XPATHs for each username\n",
    "    dynamic_xpaths = {**base_xpaths}  # Copy base XPATHs\n",
    "    dynamic_xpaths['search_results'] = {\n",
    "        username: f'//android.widget.TextView[@resource-id=\"com.instagram.android:id/row_search_user_username\" and @text=\"{username}\"]'\n",
    "    }\n",
    "    \n",
    "    return dynamic_xpaths\n",
    "logging.info(f'X_PATHS: {x_paths}')"
   ]
  },
  {
   "cell_type": "markdown",
   "metadata": {},
   "source": [
    "#### Steps"
   ]
  },
  {
   "cell_type": "code",
   "execution_count": 39,
   "metadata": {},
   "outputs": [],
   "source": [
    "def find_element(x_path_name):\n",
    "    logging.info(f\"Attempting to locate element: {x_path_name}\")\n",
    "    try:\n",
    "        element = WebDriverWait(driver, 10).until(EC.presence_of_element_located((By.XPATH, x_paths[x_path_name])))\n",
    "        logging.info(f\"Element located and clicked: {x_path_name}\")\n",
    "        return element\n",
    "    except Exception as e:\n",
    "        logging.error(f\"Failed to locate element: {x_path_name}. Error: {e}\")\n",
    "        raise"
   ]
  },
  {
   "cell_type": "code",
   "execution_count": 35,
   "metadata": {},
   "outputs": [
    {
     "name": "stderr",
     "output_type": "stream",
     "text": [
      "2025-03-22 21:02:15,872 - INFO - Attempting to locate element: search_explore\n",
      "2025-03-22 21:02:16,584 - INFO - Element located and clicked: search_explore\n",
      "2025-03-22 21:02:17,660 - INFO - Attempting to locate element: search_bar\n",
      "2025-03-22 21:02:18,473 - INFO - Element located and clicked: search_bar\n",
      "2025-03-22 21:02:20,427 - INFO - Attempting to locate element: search_bar_text\n",
      "2025-03-22 21:02:31,055 - ERROR - Failed to locate element: search_bar_text. Error: Message: \n",
      "Stacktrace:\n",
      "NoSuchElementError: An element could not be located on the page using the given search parameters.\n",
      "    at AndroidUiautomator2Driver.findElOrEls (C:\\Users\\hp\\AppData\\Local\\Programs\\Appium Server GUI\\resources\\app\\node_modules\\appium\\node_modules\\appium-android-driver\\lib\\commands\\find.js:75:11)\n",
      "    at runMicrotasks (<anonymous>)\n",
      "    at processTicksAndRejections (internal/process/task_queues.js:97:5)\n",
      "    at AndroidUiautomator2Driver.findElOrElsWithProcessing (C:\\Users\\hp\\AppData\\Local\\Programs\\Appium Server GUI\\resources\\app\\node_modules\\appium\\node_modules\\appium-base-driver\\lib\\basedriver\\commands\\find.js:33:12)\n",
      "    at AndroidUiautomator2Driver.findElement (C:\\Users\\hp\\AppData\\Local\\Programs\\Appium Server GUI\\resources\\app\\node_modules\\appium\\node_modules\\appium-base-driver\\lib\\basedriver\\commands\\find.js:53:10)\n"
     ]
    },
    {
     "ename": "TimeoutException",
     "evalue": "Message: \nStacktrace:\nNoSuchElementError: An element could not be located on the page using the given search parameters.\n    at AndroidUiautomator2Driver.findElOrEls (C:\\Users\\hp\\AppData\\Local\\Programs\\Appium Server GUI\\resources\\app\\node_modules\\appium\\node_modules\\appium-android-driver\\lib\\commands\\find.js:75:11)\n    at runMicrotasks (<anonymous>)\n    at processTicksAndRejections (internal/process/task_queues.js:97:5)\n    at AndroidUiautomator2Driver.findElOrElsWithProcessing (C:\\Users\\hp\\AppData\\Local\\Programs\\Appium Server GUI\\resources\\app\\node_modules\\appium\\node_modules\\appium-base-driver\\lib\\basedriver\\commands\\find.js:33:12)\n    at AndroidUiautomator2Driver.findElement (C:\\Users\\hp\\AppData\\Local\\Programs\\Appium Server GUI\\resources\\app\\node_modules\\appium\\node_modules\\appium-base-driver\\lib\\basedriver\\commands\\find.js:53:10)",
     "output_type": "error",
     "traceback": [
      "\u001b[1;31m---------------------------------------------------------------------------\u001b[0m",
      "\u001b[1;31mTimeoutException\u001b[0m                          Traceback (most recent call last)",
      "Cell \u001b[1;32mIn[35], line 7\u001b[0m\n\u001b[0;32m      5\u001b[0m search_bar\u001b[38;5;241m.\u001b[39mclick()\n\u001b[0;32m      6\u001b[0m time\u001b[38;5;241m.\u001b[39msleep(\u001b[38;5;241m1\u001b[39m)\n\u001b[1;32m----> 7\u001b[0m search_bar_text \u001b[38;5;241m=\u001b[39m \u001b[43mfind_element\u001b[49m\u001b[43m(\u001b[49m\u001b[38;5;124;43m'\u001b[39;49m\u001b[38;5;124;43msearch_bar_text\u001b[39;49m\u001b[38;5;124;43m'\u001b[39;49m\u001b[43m)\u001b[49m\n\u001b[0;32m      8\u001b[0m search_bar_text\u001b[38;5;241m.\u001b[39mclick()\n\u001b[0;32m      9\u001b[0m search_bar_text\u001b[38;5;241m.\u001b[39msend_keys(\u001b[38;5;124m'\u001b[39m\u001b[38;5;124mbeggiolafs\u001b[39m\u001b[38;5;124m'\u001b[39m)\n",
      "Cell \u001b[1;32mIn[32], line 4\u001b[0m, in \u001b[0;36mfind_element\u001b[1;34m(x_path_name)\u001b[0m\n\u001b[0;32m      2\u001b[0m logging\u001b[38;5;241m.\u001b[39minfo(\u001b[38;5;124mf\u001b[39m\u001b[38;5;124m\"\u001b[39m\u001b[38;5;124mAttempting to locate element: \u001b[39m\u001b[38;5;132;01m{\u001b[39;00mx_path_name\u001b[38;5;132;01m}\u001b[39;00m\u001b[38;5;124m\"\u001b[39m)\n\u001b[0;32m      3\u001b[0m \u001b[38;5;28;01mtry\u001b[39;00m:\n\u001b[1;32m----> 4\u001b[0m     element \u001b[38;5;241m=\u001b[39m \u001b[43mWebDriverWait\u001b[49m\u001b[43m(\u001b[49m\u001b[43mdriver\u001b[49m\u001b[43m,\u001b[49m\u001b[43m \u001b[49m\u001b[38;5;241;43m10\u001b[39;49m\u001b[43m)\u001b[49m\u001b[38;5;241;43m.\u001b[39;49m\u001b[43muntil\u001b[49m\u001b[43m(\u001b[49m\u001b[43mEC\u001b[49m\u001b[38;5;241;43m.\u001b[39;49m\u001b[43mpresence_of_element_located\u001b[49m\u001b[43m(\u001b[49m\u001b[43m(\u001b[49m\u001b[43mBy\u001b[49m\u001b[38;5;241;43m.\u001b[39;49m\u001b[43mXPATH\u001b[49m\u001b[43m,\u001b[49m\u001b[43m \u001b[49m\u001b[43mx_paths\u001b[49m\u001b[43m[\u001b[49m\u001b[43mx_path_name\u001b[49m\u001b[43m]\u001b[49m\u001b[43m)\u001b[49m\u001b[43m)\u001b[49m\u001b[43m)\u001b[49m\n\u001b[0;32m      5\u001b[0m     logging\u001b[38;5;241m.\u001b[39minfo(\u001b[38;5;124mf\u001b[39m\u001b[38;5;124m\"\u001b[39m\u001b[38;5;124mElement located and clicked: \u001b[39m\u001b[38;5;132;01m{\u001b[39;00mx_path_name\u001b[38;5;132;01m}\u001b[39;00m\u001b[38;5;124m\"\u001b[39m)\n\u001b[0;32m      6\u001b[0m     \u001b[38;5;28;01mreturn\u001b[39;00m element\n",
      "File \u001b[1;32m~\\AppData\\Local\\Packages\\PythonSoftwareFoundation.Python.3.12_qbz5n2kfra8p0\\LocalCache\\local-packages\\Python312\\site-packages\\selenium\\webdriver\\support\\wait.py:105\u001b[0m, in \u001b[0;36mWebDriverWait.until\u001b[1;34m(self, method, message)\u001b[0m\n\u001b[0;32m    103\u001b[0m         \u001b[38;5;28;01mbreak\u001b[39;00m\n\u001b[0;32m    104\u001b[0m     time\u001b[38;5;241m.\u001b[39msleep(\u001b[38;5;28mself\u001b[39m\u001b[38;5;241m.\u001b[39m_poll)\n\u001b[1;32m--> 105\u001b[0m \u001b[38;5;28;01mraise\u001b[39;00m TimeoutException(message, screen, stacktrace)\n",
      "\u001b[1;31mTimeoutException\u001b[0m: Message: \nStacktrace:\nNoSuchElementError: An element could not be located on the page using the given search parameters.\n    at AndroidUiautomator2Driver.findElOrEls (C:\\Users\\hp\\AppData\\Local\\Programs\\Appium Server GUI\\resources\\app\\node_modules\\appium\\node_modules\\appium-android-driver\\lib\\commands\\find.js:75:11)\n    at runMicrotasks (<anonymous>)\n    at processTicksAndRejections (internal/process/task_queues.js:97:5)\n    at AndroidUiautomator2Driver.findElOrElsWithProcessing (C:\\Users\\hp\\AppData\\Local\\Programs\\Appium Server GUI\\resources\\app\\node_modules\\appium\\node_modules\\appium-base-driver\\lib\\basedriver\\commands\\find.js:33:12)\n    at AndroidUiautomator2Driver.findElement (C:\\Users\\hp\\AppData\\Local\\Programs\\Appium Server GUI\\resources\\app\\node_modules\\appium\\node_modules\\appium-base-driver\\lib\\basedriver\\commands\\find.js:53:10)"
     ]
    }
   ],
   "source": [
    "user_name = ['navneet_ks_', 'candidpavscene', 'sevainternal']\n",
    "search_explore = find_element('search_explore')\n",
    "search_explore.click()\n",
    "time.sleep(1)\n",
    "search_bar = find_element('search_bar')\n",
    "search_bar.click()\n",
    "time.sleep(1)\n",
    "search_bar_text = find_element('search_bar_text')\n",
    "search_bar_text.click()\n",
    "search_bar_text.send_keys(user_name)"
   ]
  },
  {
   "cell_type": "code",
   "execution_count": null,
   "metadata": {},
   "outputs": [],
   "source": []
  }
 ],
 "metadata": {
  "kernelspec": {
   "display_name": "Python 3",
   "language": "python",
   "name": "python3"
  },
  "language_info": {
   "codemirror_mode": {
    "name": "ipython",
    "version": 3
   },
   "file_extension": ".py",
   "mimetype": "text/x-python",
   "name": "python",
   "nbconvert_exporter": "python",
   "pygments_lexer": "ipython3",
   "version": "3.12.9"
  }
 },
 "nbformat": 4,
 "nbformat_minor": 2
}
